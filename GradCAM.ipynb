{
 "cells": [
  {
   "cell_type": "markdown",
   "metadata": {},
   "source": [
    "# Gradient Class Activation Map"
   ]
  },
  {
   "cell_type": "code",
   "execution_count": 1,
   "metadata": {
    "scrolled": true
   },
   "outputs": [],
   "source": [
    "import cv2\n",
    "import numpy as np\n",
    "import matplotlib.pyplot as plt\n",
    "import json\n",
    "import os\n",
    "import pandas as pd\n",
    "from pocovidnet.evaluate_covid19 import Evaluator\n",
    "from pocovidnet.grad_cam import GradCAM\n",
    "from pocovidnet.cam import get_class_activation_map\n",
    "from pocovidnet.model import get_vgg16_model"
   ]
  },
  {
   "cell_type": "code",
   "execution_count": 2,
   "metadata": {},
   "outputs": [],
   "source": [
    "def convolve_faster(img, kernel):\n",
    "    \"\"\"\n",
    "    Convolve a 2d img with a kernel, storing the output in the cell\n",
    "    corresponding the the left or right upper corner\n",
    "    :param img: 2d numpy array\n",
    "    :param kernel: kernel (must have equal size and width)\n",
    "    :param neg: if neg=0, store in upper left corner, if neg=1,\n",
    "    store in upper right corner\n",
    "    :return convolved image of same size\n",
    "    \"\"\"\n",
    "    k_size = len(kernel)\n",
    "    # a = np.pad(img, ((0, k_size-1), (0, k_size-1)))\n",
    "    padded = np.pad(img, ((k_size//2, k_size//2), (k_size//2, k_size//2)))\n",
    "\n",
    "    s = kernel.shape + tuple(np.subtract(padded.shape, kernel.shape) + 1)\n",
    "    strd = np.lib.stride_tricks.as_strided\n",
    "    subM = strd(padded, shape=s, strides=padded.strides * 2)\n",
    "    return np.einsum('ij,ijkl->kl', kernel, subM)"
   ]
  },
  {
   "cell_type": "code",
   "execution_count": 4,
   "metadata": {
    "scrolled": false
   },
   "outputs": [
    {
     "name": "stdout",
     "output_type": "stream",
     "text": [
      "NEW FOLD 0\n"
     ]
    },
    {
     "ename": "AssertionError",
     "evalue": "must be 2 or 3 classes",
     "output_type": "error",
     "traceback": [
      "\u001b[1;31m---------------------------------------------------------------------------\u001b[0m",
      "\u001b[1;31mAssertionError\u001b[0m                            Traceback (most recent call last)",
      "\u001b[1;32m~\\AppData\\Local\\Temp/ipykernel_11720/4027031004.py\u001b[0m in \u001b[0;36m<module>\u001b[1;34m\u001b[0m\n\u001b[0;32m     14\u001b[0m     \u001b[0mevaluator\u001b[0m \u001b[1;33m=\u001b[0m \u001b[1;32mNone\u001b[0m\u001b[1;33m\u001b[0m\u001b[1;33m\u001b[0m\u001b[0m\n\u001b[0;32m     15\u001b[0m     \u001b[1;31m# Cargar los pesos\u001b[0m\u001b[1;33m\u001b[0m\u001b[1;33m\u001b[0m\u001b[1;33m\u001b[0m\u001b[0m\n\u001b[1;32m---> 16\u001b[1;33m     evaluator = Evaluator(weights_dir=\"./trained_models/model_16/val\", ensemble=False, split=fold, \n\u001b[0m\u001b[0;32m     17\u001b[0m     model_id=\"vgg_16\", num_classes=3)\n\u001b[0;32m     18\u001b[0m     \u001b[1;31m# Obtener los nombres de pertenencia del fold\u001b[0m\u001b[1;33m\u001b[0m\u001b[1;33m\u001b[0m\u001b[1;33m\u001b[0m\u001b[0m\n",
      "\u001b[1;32m~\\Seminario_1_Prueba_Concepto\\pocovidnet\\evaluate_covid19.py\u001b[0m in \u001b[0;36m__init__\u001b[1;34m(self, weights_dir, ensemble, split, model_id, num_classes, mc_dropout, test_augment)\u001b[0m\n\u001b[0;32m     43\u001b[0m         \u001b[0mself\u001b[0m\u001b[1;33m.\u001b[0m\u001b[0msplit\u001b[0m \u001b[1;33m=\u001b[0m \u001b[0msplit\u001b[0m\u001b[1;33m\u001b[0m\u001b[1;33m\u001b[0m\u001b[0m\n\u001b[0;32m     44\u001b[0m         \u001b[0mself\u001b[0m\u001b[1;33m.\u001b[0m\u001b[0mensemble\u001b[0m \u001b[1;33m=\u001b[0m \u001b[0mensemble\u001b[0m\u001b[1;33m\u001b[0m\u001b[1;33m\u001b[0m\u001b[0m\n\u001b[1;32m---> 45\u001b[1;33m         \u001b[1;32massert\u001b[0m \u001b[0mnum_classes\u001b[0m \u001b[1;33m==\u001b[0m \u001b[1;36m1\u001b[0m \u001b[1;32mor\u001b[0m \u001b[0mnum_classes\u001b[0m \u001b[1;33m==\u001b[0m \u001b[1;36m2\u001b[0m\u001b[1;33m,\u001b[0m \u001b[1;34m\"must be 2 or 3 classes\"\u001b[0m\u001b[1;33m\u001b[0m\u001b[1;33m\u001b[0m\u001b[0m\n\u001b[0m\u001b[0;32m     46\u001b[0m         \u001b[1;32mif\u001b[0m \u001b[0mmodel_id\u001b[0m \u001b[1;32mis\u001b[0m \u001b[1;32mNone\u001b[0m\u001b[1;33m:\u001b[0m\u001b[1;33m\u001b[0m\u001b[1;33m\u001b[0m\u001b[0m\n\u001b[0;32m     47\u001b[0m             \u001b[0mself\u001b[0m\u001b[1;33m.\u001b[0m\u001b[0mmodel_id\u001b[0m \u001b[1;33m=\u001b[0m \u001b[1;34m'vgg_16'\u001b[0m\u001b[1;31m#'vgg_base'\u001b[0m\u001b[1;33m\u001b[0m\u001b[1;33m\u001b[0m\u001b[0m\n",
      "\u001b[1;31mAssertionError\u001b[0m: must be 2 or 3 classes"
     ]
    }
   ],
   "source": [
    "path_crossval = \"./image_cross_val\"\n",
    "weights_dir = \"./trained_models/model_0\"\n",
    "gt_dict = {\"Reg\":1, \"Cov\":0}\n",
    "\n",
    "gradcam = GradCAM()\n",
    "\n",
    "all_predictions = []\n",
    "heatmap_points, predicted, gt_class, overlays, fnames = [], [], [], [], []\n",
    "\n",
    "for fold in range(5):\n",
    "    # Cargar los pesos respectivos a los folds del modelo\n",
    "    print(\"NEW FOLD\", fold)\n",
    "    # Asegurar que la variable esta limpia\n",
    "    evaluator = None\n",
    "    # Cargar los pesos\n",
    "    evaluator = Evaluator(weights_dir=\"./trained_models/model_16/val\", ensemble=False, split=fold, \n",
    "    model_id=\"vgg_16\", num_classes=3)\n",
    "    # Obtener los nombres de pertenencia del fold\n",
    "    all_images_arr = []\n",
    "    gt, name = [], []\n",
    "    for mod in [\"covid\", \"regular\"]:\n",
    "        for f in os.listdir(os.path.join(path_crossval, \"split\"+str(fold), mod)):\n",
    "            if f[0]!=\".\":\n",
    "                img_loaded = cv2.imread(os.path.join(path_crossval, \"split\"+str(fold), mod, f))\n",
    "                img_preprocc = evaluator.preprocess(img_loaded)[0]\n",
    "                gt.append(gt_dict[f[:3]])\n",
    "                all_images_arr.append(img_preprocc)\n",
    "                name.append(f)\n",
    "    all_images_arr = np.array(all_images_arr)\n",
    "    # predicciones\n",
    "    print(\"process all images in fold\", fold, \"with shape\", all_images_arr.shape)\n",
    "    fold_preds = evaluator.models[0].predict(all_images_arr)\n",
    "    class_idx_per_img = np.argmax(fold_preds, axis=1)\n",
    "    all_predictions.append(fold_preds)\n",
    "    \n",
    "    # Mapa de calor\n",
    "    for i, img in enumerate(all_images_arr):\n",
    "        overlay, heatmap = gradcam.explain(img, evaluator.models[0], gt[i], \n",
    "        return_map=True, image_weight=1, layer_name=\"block5_conv3\", zeroing=0.65, heatmap_weight=0.25)     \n",
    "       \n",
    "        overlays.append(overlay.astype(int))\n",
    "        # convolve with big kernel\n",
    "        convolved_overlay = convolve_faster(heatmap, np.ones((19,19)))\n",
    "        x_coord, y_coord = divmod(np.argmax(convolved_overlay.flatten()), len(convolved_overlay[0]))\n",
    "        \n",
    "        heatmap_points.append([x_coord, y_coord])\n",
    "        predicted.append(class_idx_per_img[i])\n",
    "        gt_class.append(gt[i])\n",
    "        fnames.append(name[i])  "
   ]
  },
  {
   "cell_type": "code",
   "execution_count": null,
   "metadata": {
    "scrolled": false
   },
   "outputs": [],
   "source": [
    "import numpy as np\n",
    "import matplotlib.pyplot as plt\n",
    "\n",
    "w=12\n",
    "h=15\n",
    "fig=plt.figure(figsize=(15, 12))\n",
    "fig.tight_layout(h_pad=20)\n",
    "columns = 4\n",
    "rows = 3\n",
    "item_img = [overlays[4], overlays[7], overlays[16], overlays[97],\n",
    "            overlays[778], overlays[1041], overlays[1061], overlays[1333],\n",
    "            overlays[819], overlays[849], overlays[843], overlays[1075]]\n",
    "\n",
    "item_img_fp = []\n",
    "\n",
    "fig, big_axes = plt.subplots(figsize=(15, 12), nrows=3, ncols=1, sharey=True)\n",
    "classes_sp=['saludables', 'con COVID-19']\n",
    "for idx, big_ax in enumerate(big_axes, start=1):\n",
    "    big_ax.set_title(\"Grad-CAM en LUS de pacientes %s \\n\\n\\n\" % classes_sp[idx - 1], fontsize=16, pad=-30)\n",
    "    big_ax.tick_params(labelcolor='w', top=False, bottom=False, left=False, right=False)\n",
    "    \n",
    "    big_ax._frameon = False\n",
    "for i in range(1, columns*rows +1):\n",
    "    img = item_img[i-1]\n",
    "    fig.add_subplot(rows, columns, i)\n",
    "    fig.tight_layout(h_pad=1)\n",
    "    plt.imshow(img)\n",
    "           \n",
    "plt.show()\n",
    "\n",
    "fig.savefig(\"grad-cam-img.pdf\",bbox_inches='tight')"
   ]
  },
  {
   "cell_type": "code",
   "execution_count": null,
   "metadata": {},
   "outputs": [],
   "source": []
  }
 ],
 "metadata": {
  "kernelspec": {
   "display_name": "Python 3 (ipykernel)",
   "language": "python",
   "name": "python3"
  },
  "language_info": {
   "codemirror_mode": {
    "name": "ipython",
    "version": 3
   },
   "file_extension": ".py",
   "mimetype": "text/x-python",
   "name": "python",
   "nbconvert_exporter": "python",
   "pygments_lexer": "ipython3",
   "version": "3.8.8"
  }
 },
 "nbformat": 4,
 "nbformat_minor": 4
}
