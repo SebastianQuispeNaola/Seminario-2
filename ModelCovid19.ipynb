{
 "cells": [
  {
   "cell_type": "code",
   "execution_count": 1,
   "metadata": {
    "scrolled": true
   },
   "outputs": [],
   "source": [
    "import numpy as np\n",
    "import pandas as pd\n",
    "import matplotlib.pyplot as plt\n",
    "from sklearn.metrics import classification_report, confusion_matrix\n",
    "\n",
    "from tensorflow.keras.preprocessing.image import ImageDataGenerator\n",
    "from tensorflow.keras.callbacks import (\n",
    "    EarlyStopping, ModelCheckpoint, ReduceLROnPlateau\n",
    ")\n",
    "\n",
    "from pocovidnet import MODEL_FACTORY\n",
    "from pocovidnet.utils import Metrics\n",
    "\n",
    "from plots import *\n",
    "from cross_val_splitter import *\n",
    "from set_conf_cnn_model import *"
   ]
  },
  {
   "cell_type": "markdown",
   "metadata": {},
   "source": [
    "### Cargar el dataset"
   ]
  },
  {
   "cell_type": "code",
   "execution_count": 2,
   "metadata": {},
   "outputs": [],
   "source": [
    "num_folds = 5\n",
    "data_dir = './image_dataset'\n",
    "output_dir = './image_cross_val'"
   ]
  },
  {
   "cell_type": "code",
   "execution_count": 5,
   "metadata": {
    "scrolled": false
   },
   "outputs": [],
   "source": [
    "import shutil\n",
    "shutil.rmtree(output_dir)\n",
    "shutil.rmtree('./trained_models/model_1')"
   ]
  },
  {
   "cell_type": "markdown",
   "metadata": {},
   "source": [
    "### Dividir el dataset"
   ]
  },
  {
   "cell_type": "code",
   "execution_count": 6,
   "metadata": {
    "scrolled": true
   },
   "outputs": [
    {
     "name": "stdout",
     "output_type": "stream",
     "text": [
      "split0 covid 11 131 3\n",
      "split0 covid 131\n",
      "split0 regular 5 72 1\n",
      "split0 regular 72\n",
      "split1 covid 10 110 3\n",
      "split1 covid 110\n",
      "split1 regular 5 64 1\n",
      "split1 regular 64\n",
      "split2 covid 12 149 4\n",
      "split2 covid 149\n",
      "split2 regular 5 60 1\n",
      "split2 regular 60\n",
      "split3 covid 10 160 3\n",
      "split3 covid 160\n",
      "split3 regular 5 90 1\n",
      "split3 regular 90\n",
      "split4 covid 10 144 3\n",
      "split4 covid 144\n",
      "split4 regular 5 46 1\n",
      "split4 regular 46\n",
      "El dataset contiene en total 1026 imágenes\n",
      "split0 covid 11 131 3\n",
      "split0 covid 131\n",
      "split0 regular 5 72 1\n",
      "split0 regular 72\n",
      "split1 covid 10 110 3\n",
      "split1 covid 110\n",
      "split1 regular 5 64 1\n",
      "split1 regular 64\n",
      "split2 covid 12 149 4\n",
      "split2 covid 149\n",
      "split2 regular 5 60 1\n",
      "split2 regular 60\n",
      "split3 covid 10 160 3\n",
      "split3 covid 160\n",
      "split3 regular 5 90 1\n",
      "split3 regular 90\n",
      "split4 covid 10 144 3\n",
      "split4 covid 144\n",
      "split4 regular 5 46 1\n",
      "split4 regular 46\n",
      "El dataset contiene en total 1026 imágenes\n"
     ]
    }
   ],
   "source": [
    "set_split_crossval = CrossValSplitter(num_folds, data_dir, output_dir)\n",
    "set_split_crossval.split_dataset()\n",
    "set_split_crossval.check_crossval(output_dir)"
   ]
  },
  {
   "cell_type": "markdown",
   "metadata": {},
   "source": [
    "### Visualización de las clases"
   ]
  },
  {
   "cell_type": "code",
   "execution_count": 7,
   "metadata": {},
   "outputs": [],
   "source": [
    "classes = ['regular','covid']"
   ]
  },
  {
   "cell_type": "code",
   "execution_count": 14,
   "metadata": {},
   "outputs": [],
   "source": [
    "def ceildiv(a, b):\n",
    "    return -(-a // b)\n",
    "\n",
    "def plots_from_files(imspaths, figsize=(20,10), rows=1, titles=None, maintitle=None):\n",
    "    \"\"\"Plot the images in a grid\"\"\"\n",
    "    f = plt.figure(figsize=figsize)\n",
    "    if maintitle is not None: plt.suptitle(maintitle, fontsize=10)\n",
    "    for i in range(len(imspaths)):\n",
    "        sp = f.add_subplot(rows, ceildiv(len(imspaths), rows), i+1)\n",
    "        sp.axis('Off')\n",
    "        if titles is not None: sp.set_title(titles[i], fontsize=16)\n",
    "        img = plt.imread(imspaths[i])\n",
    "        plt.imshow(img)"
   ]
  },
  {
   "cell_type": "code",
   "execution_count": 16,
   "metadata": {
    "scrolled": false
   },
   "outputs": [
    {
     "ename": "NameError",
     "evalue": "name 'covid' is not defined",
     "output_type": "error",
     "traceback": [
      "\u001b[1;31m---------------------------------------------------------------------------\u001b[0m",
      "\u001b[1;31mNameError\u001b[0m                                 Traceback (most recent call last)",
      "\u001b[1;32m~\\AppData\\Local\\Temp/ipykernel_18536/354328519.py\u001b[0m in \u001b[0;36m<module>\u001b[1;34m\u001b[0m\n\u001b[1;32m----> 1\u001b[1;33m \u001b[0mplots_from_files\u001b[0m\u001b[1;33m(\u001b[0m\u001b[0mcovid\u001b[0m\u001b[1;33m,\u001b[0m \u001b[0mrows\u001b[0m\u001b[1;33m=\u001b[0m\u001b[1;36m5\u001b[0m\u001b[1;33m,\u001b[0m \u001b[0mmaintitle\u001b[0m\u001b[1;33m=\u001b[0m\u001b[1;34m\"Covid-19 X-ray images\"\u001b[0m\u001b[1;33m)\u001b[0m\u001b[1;33m\u001b[0m\u001b[1;33m\u001b[0m\u001b[0m\n\u001b[0m",
      "\u001b[1;31mNameError\u001b[0m: name 'covid' is not defined"
     ]
    }
   ],
   "source": [
    "plots_from_files(covid, rows=5, maintitle=\"Covid-19 X-ray images\")"
   ]
  },
  {
   "cell_type": "code",
   "execution_count": 10,
   "metadata": {
    "scrolled": true
   },
   "outputs": [
    {
     "ename": "IndexError",
     "evalue": "list index out of range",
     "output_type": "error",
     "traceback": [
      "\u001b[1;31m---------------------------------------------------------------------------\u001b[0m",
      "\u001b[1;31mIndexError\u001b[0m                                Traceback (most recent call last)",
      "\u001b[1;32m~\\AppData\\Local\\Temp/ipykernel_18536/4288441157.py\u001b[0m in \u001b[0;36m<module>\u001b[1;34m\u001b[0m\n\u001b[1;32m----> 1\u001b[1;33m \u001b[0mPlots\u001b[0m\u001b[1;33m.\u001b[0m\u001b[0mimgs_dataset\u001b[0m\u001b[1;33m(\u001b[0m\u001b[0mdata_dir\u001b[0m\u001b[1;33m,\u001b[0m \u001b[0mclasses\u001b[0m\u001b[1;33m)\u001b[0m\u001b[1;33m\u001b[0m\u001b[1;33m\u001b[0m\u001b[0m\n\u001b[0m",
      "\u001b[1;32m~\\Seminario_1_Prueba_Concepto\\plots.py\u001b[0m in \u001b[0;36mimgs_dataset\u001b[1;34m(data_dir, classes, num_imgs, img_width, img_height)\u001b[0m\n\u001b[0;32m     19\u001b[0m         \u001b[0mclasses_sp\u001b[0m\u001b[1;33m=\u001b[0m\u001b[1;33m[\u001b[0m\u001b[1;34m'saludables'\u001b[0m\u001b[1;33m,\u001b[0m \u001b[1;34m'con COVID-19'\u001b[0m\u001b[1;33m]\u001b[0m\u001b[1;33m\u001b[0m\u001b[1;33m\u001b[0m\u001b[0m\n\u001b[0;32m     20\u001b[0m         \u001b[1;32mfor\u001b[0m \u001b[0midx\u001b[0m\u001b[1;33m,\u001b[0m \u001b[0mbig_ax\u001b[0m \u001b[1;32min\u001b[0m \u001b[0menumerate\u001b[0m\u001b[1;33m(\u001b[0m\u001b[0mbig_axes\u001b[0m\u001b[1;33m,\u001b[0m \u001b[0mstart\u001b[0m\u001b[1;33m=\u001b[0m\u001b[1;36m0\u001b[0m\u001b[1;33m)\u001b[0m\u001b[1;33m:\u001b[0m\u001b[1;33m\u001b[0m\u001b[1;33m\u001b[0m\u001b[0m\n\u001b[1;32m---> 21\u001b[1;33m             \u001b[0mbig_ax\u001b[0m\u001b[1;33m.\u001b[0m\u001b[0mset_title\u001b[0m\u001b[1;33m(\u001b[0m\u001b[1;34m\"Ultrasonido pulmonar en pacientes %s \\n\"\u001b[0m \u001b[1;33m%\u001b[0m \u001b[0mclasses_sp\u001b[0m\u001b[1;33m[\u001b[0m\u001b[0midx\u001b[0m\u001b[1;33m-\u001b[0m\u001b[1;36m1\u001b[0m\u001b[1;33m]\u001b[0m\u001b[1;33m,\u001b[0m \u001b[0mfontsize\u001b[0m\u001b[1;33m=\u001b[0m\u001b[1;36m16\u001b[0m\u001b[1;33m)\u001b[0m\u001b[1;33m\u001b[0m\u001b[1;33m\u001b[0m\u001b[0m\n\u001b[0m\u001b[0;32m     22\u001b[0m             \u001b[0mbig_ax\u001b[0m\u001b[1;33m.\u001b[0m\u001b[0mtick_params\u001b[0m\u001b[1;33m(\u001b[0m\u001b[0mlabelcolor\u001b[0m\u001b[1;33m=\u001b[0m\u001b[1;34m'w'\u001b[0m\u001b[1;33m,\u001b[0m \u001b[0mtop\u001b[0m\u001b[1;33m=\u001b[0m\u001b[1;32mFalse\u001b[0m\u001b[1;33m,\u001b[0m \u001b[0mbottom\u001b[0m\u001b[1;33m=\u001b[0m\u001b[1;32mFalse\u001b[0m\u001b[1;33m,\u001b[0m \u001b[0mleft\u001b[0m\u001b[1;33m=\u001b[0m\u001b[1;32mFalse\u001b[0m\u001b[1;33m,\u001b[0m \u001b[0mright\u001b[0m\u001b[1;33m=\u001b[0m\u001b[1;32mFalse\u001b[0m\u001b[1;33m)\u001b[0m\u001b[1;33m\u001b[0m\u001b[1;33m\u001b[0m\u001b[0m\n\u001b[0;32m     23\u001b[0m             \u001b[1;31m# removes the white frame\u001b[0m\u001b[1;33m\u001b[0m\u001b[1;33m\u001b[0m\u001b[1;33m\u001b[0m\u001b[0m\n",
      "\u001b[1;31mIndexError\u001b[0m: list index out of range"
     ]
    },
    {
     "data": {
      "image/png": "[encoded data removed]",
      "text/plain": [
       "<Figure size 1080x864 with 3 Axes>"
      ]
     },
     "metadata": {},
     "output_type": "display_data"
    }
   ],
   "source": [
    "Plots.imgs_dataset(data_dir, classes)"
   ]
  },
  {
   "cell_type": "markdown",
   "metadata": {},
   "source": [
    "### Definición del modelo"
   ]
  },
  {
   "cell_type": "code",
   "execution_count": 17,
   "metadata": {},
   "outputs": [],
   "source": [
    "args_model = {\n",
    "    'data_dir': './image_cross_val',\n",
    "    'model_name': 'test',\n",
    "    'model_dir': 'trained_models/model_16',#'models/',\n",
    "    'model_id': 'vgg_16',\n",
    "    'fold': 4,\n",
    "    'learning_rate': 1e-4,\n",
    "    'epochs': 16,\n",
    "    'batch_size': 16,\n",
    "    'trainable_base_layers': 1,\n",
    "    'img_width': 224,\n",
    "    'img_height': 224,\n",
    "    'log_softmax': False,\n",
    "    'hidden_size': 64\n",
    "}"
   ]
  },
  {
   "cell_type": "code",
   "execution_count": 18,
   "metadata": {},
   "outputs": [],
   "source": [
    "vgg_rnn = SetConfModel(args_model)"
   ]
  },
  {
   "cell_type": "code",
   "execution_count": 19,
   "metadata": {
    "scrolled": true
   },
   "outputs": [
    {
     "name": "stdout",
     "output_type": "stream",
     "text": [
      "Configuración de hiperparámetros:\n",
      "\n",
      "data_dir: ./image_cross_val\n",
      "model_name: test\n",
      "model_dir: trained_models/model_16\n",
      "model_id: vgg_16\n",
      "fold: 4\n",
      "learning_rate: 0.0001\n",
      "epochs: 16\n",
      "batch_size: 16\n",
      "trainable_base_layers: 1\n",
      "img_width: 224\n",
      "img_height: 224\n",
      "log_softmax: False\n",
      "hidden_size: 64\n"
     ]
    }
   ],
   "source": [
    "vgg_rnn.check_model()"
   ]
  },
  {
   "cell_type": "code",
   "execution_count": 20,
   "metadata": {
    "scrolled": false
   },
   "outputs": [
    {
     "name": "stdout",
     "output_type": "stream",
     "text": [
      "Cargando imágenes...\n",
      "OK!. 1026 imágenes cargadas\n",
      "Fold seleccionado: 4\n",
      "\n",
      "Number of training samples: 836 \n",
      "Number of testing samples: 190\n",
      "Total samples: 1026\n"
     ]
    }
   ],
   "source": [
    "train_data, test_data, train_labels, test_labels = vgg_rnn.train_test_dataset()"
   ]
  },
  {
   "cell_type": "code",
   "execution_count": 21,
   "metadata": {
    "scrolled": true
   },
   "outputs": [
    {
     "name": "stdout",
     "output_type": "stream",
     "text": [
      "Class mappings are: ['covid' 'regular']\n"
     ]
    }
   ],
   "source": [
    "classes, trainX, testX, trainY, testY = vgg_rnn.one_hot_encoding(train_data, test_data, train_labels, test_labels)"
   ]
  },
  {
   "cell_type": "markdown",
   "metadata": {},
   "source": [
    "### Aplicando técnicas de regularización"
   ]
  },
  {
   "cell_type": "code",
   "execution_count": 22,
   "metadata": {},
   "outputs": [],
   "source": [
    "# initialize the training data augmentation object\n",
    "trainAug = ImageDataGenerator(\n",
    "    rotation_range=10,\n",
    "    fill_mode='nearest',\n",
    "    horizontal_flip=True,\n",
    "    vertical_flip=True,\n",
    "    width_shift_range=0.1,\n",
    "    height_shift_range=0.1\n",
    ")"
   ]
  },
  {
   "cell_type": "code",
   "execution_count": 23,
   "metadata": {},
   "outputs": [],
   "source": [
    "# Load the VGG16 network\n",
    "model = MODEL_FACTORY[vgg_rnn.MODEL_ID](\n",
    "    input_size=(vgg_rnn.IMG_WIDTH, vgg_rnn.IMG_HEIGHT, 3),\n",
    "    num_classes=len(set(train_labels)),\n",
    "    trainable_layers=vgg_rnn.TRAINABLE_BASE_LAYERS,\n",
    "    log_softmax=vgg_rnn.LOG_SOFTMAX,\n",
    "    hidden_size=vgg_rnn.HIDDEN_SIZE\n",
    ")"
   ]
  },
  {
   "cell_type": "markdown",
   "metadata": {},
   "source": [
    "### Callbacks"
   ]
  },
  {
   "cell_type": "code",
   "execution_count": null,
   "metadata": {},
   "outputs": [],
   "source": [
    "# Define callbacks\n",
    "earlyStopping = EarlyStopping(\n",
    "    monitor='val_loss',\n",
    "    patience=10,\n",
    "    verbose=1,\n",
    "    mode='min',\n",
    "    restore_best_weights=True\n",
    ")"
   ]
  },
  {
   "cell_type": "code",
   "execution_count": null,
   "metadata": {},
   "outputs": [],
   "source": [
    "mcp_save = ModelCheckpoint(\n",
    "    os.path.join(vgg_rnn.MODEL_DIR, 'fold_' + str(vgg_rnn.FOLD) + '_epoch_{epoch:02d}'),\n",
    "    save_best_only=True,\n",
    "    monitor='val_accuracy',\n",
    "    mode='max',\n",
    "    verbose=1\n",
    ")"
   ]
  },
  {
   "cell_type": "code",
   "execution_count": null,
   "metadata": {},
   "outputs": [],
   "source": [
    "reduce_lr_loss = ReduceLROnPlateau(\n",
    "    monitor='val_loss',\n",
    "    factor=0.1,\n",
    "    patience=7,\n",
    "    verbose=1,\n",
    "    epsilon=1e-4,\n",
    "    #min_delta=1e-4,\n",
    "    mode='min'\n",
    ")"
   ]
  },
  {
   "cell_type": "code",
   "execution_count": null,
   "metadata": {},
   "outputs": [],
   "source": [
    "# To show balanced accuracy\n",
    "metrics = Metrics((testX, testY), model)"
   ]
  },
  {
   "cell_type": "code",
   "execution_count": null,
   "metadata": {
    "scrolled": false
   },
   "outputs": [],
   "source": [
    "vgg_rnn.compile_model(model)"
   ]
  },
  {
   "cell_type": "code",
   "execution_count": null,
   "metadata": {
    "scrolled": false
   },
   "outputs": [],
   "source": [
    "H = vgg_rnn.fit_model(model, \n",
    "                  trainAug, earlyStopping, mcp_save, reduce_lr_loss, metrics,\n",
    "                  trainX, testX, trainY, testY)"
   ]
  },
  {
   "cell_type": "code",
   "execution_count": null,
   "metadata": {
    "scrolled": true
   },
   "outputs": [],
   "source": [
    "# make predictions on the testing set\n",
    "print('Evaluating network...')\n",
    "predIdxs = model.predict(testX, batch_size=vgg_rnn.BATCH_SIZE)"
   ]
  },
  {
   "cell_type": "code",
   "execution_count": null,
   "metadata": {
    "scrolled": false
   },
   "outputs": [],
   "source": [
    "predIdxs_max = np.argmax(predIdxs, axis=1)\n",
    "\n",
    "print('classification report sklearn:')\n",
    "print(\n",
    "    classification_report(\n",
    "        testY.argmax(axis=1), predIdxs_max, target_names=classes\n",
    "    )\n",
    ")"
   ]
  },
  {
   "cell_type": "code",
   "execution_count": null,
   "metadata": {
    "scrolled": true
   },
   "outputs": [],
   "source": [
    "# compute the confusion matrix and and use it to derive the raw\n",
    "# accuracy, sensitivity, and specificity\n",
    "print('confusion matrix:')\n",
    "cm = confusion_matrix(testY.argmax(axis=1), predIdxs_max)\n",
    "# show the confusion matrix, accuracy, sensitivity, and specificity\n",
    "print(cm)"
   ]
  },
  {
   "cell_type": "code",
   "execution_count": null,
   "metadata": {
    "scrolled": true
   },
   "outputs": [],
   "source": [
    "# serialize the model to disk\n",
    "print(f'Saving COVID-19 detector model on {vgg_rnn.MODEL_DIR} data...')\n",
    "model.save(os.path.join(vgg_rnn.MODEL_DIR, 'last_epoch'), save_format='h5')\n",
    "\n",
    "# plot the training loss and accuracy\n",
    "Plots.train_loss_acc_results(H, vgg_rnn.MODEL_DIR, vgg_rnn.FOLD, vgg_rnn.EPOCHS)"
   ]
  },
  {
   "cell_type": "code",
   "execution_count": null,
   "metadata": {},
   "outputs": [],
   "source": []
  }
 ],
 "metadata": {
  "kernelspec": {
   "display_name": "Python 3 (ipykernel)",
   "language": "python",
   "name": "python3"
  },
  "language_info": {
   "codemirror_mode": {
    "name": "ipython",
    "version": 3
   },
   "file_extension": ".py",
   "mimetype": "text/x-python",
   "name": "python",
   "nbconvert_exporter": "python",
   "pygments_lexer": "ipython3",
   "version": "3.8.8"
  }
 },
 "nbformat": 4,
 "nbformat_minor": 4
}
